{
 "cells": [
  {
   "cell_type": "markdown",
   "id": "89b08e5c",
   "metadata": {},
   "source": [
    "# Q1 Matching Dishes: \n",
    "\n"
   ]
  },
  {
   "cell_type": "markdown",
   "id": "3d402a61",
   "metadata": {},
   "source": [
    "## Approach\n",
    "\n",
    "To return closely matching dishes to the given flavor profile, we are using KNN algorithm (K Nearest Neighbors). In this approach we first represnt each dish in our dataset as vector in multi-dimensional space. It measures how similar any dish is to target flavor profile using a distance metric. There are multiple metrics that we can use here like Manhattan Distance(L1),  Eucldean Distance(L2) or cosine similarity. We are using euclidean distance.\n",
    "\n",
    "Euclidean distance is well-suited for this task because it measures the straight-line distance between two points in a multi-dimensional space. Unlike cosine similarity, which focuses on direction rather than magnitude, Euclidean distance captures both the intensity and balance of flavors. Where as Manhattan distance calculates absolute difference accros each flavor, it is less sensitve to outlier. But here, we would like give more penalty to dishes that have high differences in the distance even for a single flavor."
   ]
  },
  {
   "cell_type": "code",
   "execution_count": 39,
   "id": "f009ffdb",
   "metadata": {},
   "outputs": [],
   "source": [
    "import pandas as pd\n",
    "import numpy as np\n",
    "from sklearn.neighbors import NearestNeighbors\n",
    "\n",
    "\n",
    "def load_data(path):\n",
    "    df = pd.read_csv(path)\n",
    "    return df\n",
    "\n",
    "def get_flavor_values(df):\n",
    "    flavor_cols = ['sweet', 'salty', 'sour', 'bitter', 'umami']\n",
    "    flavor_data = df[flavor_cols]\n",
    "    return flavor_data.values\n"
   ]
  },
  {
   "cell_type": "code",
   "execution_count": 24,
   "id": "a655aaff",
   "metadata": {},
   "outputs": [],
   "source": [
    "dish_df = load_data('../csv_data/data.csv')"
   ]
  },
  {
   "cell_type": "code",
   "execution_count": 25,
   "id": "26b3dff0",
   "metadata": {},
   "outputs": [
    {
     "data": {
      "text/plain": [
       "array([[80, 10,  5,  5,  0],\n",
       "       [10, 30,  0, 20, 40],\n",
       "       [15, 30,  5, 10, 20],\n",
       "       ...,\n",
       "       [ 0, 10,  0,  0,  0],\n",
       "       [20, 30, 10, 10, 60],\n",
       "       [10, 60, 20, 10, 40]], dtype=int64)"
      ]
     },
     "execution_count": 25,
     "metadata": {},
     "output_type": "execute_result"
    }
   ],
   "source": [
    "flavor_values = get_flavor_values(dish_df)\n",
    "\n",
    "flavor_values"
   ]
  },
  {
   "cell_type": "code",
   "execution_count": 26,
   "id": "d3be5795",
   "metadata": {},
   "outputs": [],
   "source": [
    "def fit_knn(data, distance_metric):\n",
    "    knn = NearestNeighbors(metric=distance_metric)\n",
    "    knn.fit(data)\n",
    "    return knn\n",
    "\n",
    "knn = fit_knn(data=flavor_values, distance_metric='euclidean')"
   ]
  },
  {
   "cell_type": "code",
   "execution_count": 27,
   "id": "30bf0dde",
   "metadata": {},
   "outputs": [],
   "source": [
    "# Define flavor profiles\n",
    "savory_profile = np.array([[10, 25, 15, 5, 45]])\n",
    "sweet_profile = np.array([[65, 5, 10, 10, 10]])\n",
    "mixed_profile = np.array([[15, 25, 30, 10, 20]])"
   ]
  },
  {
   "cell_type": "code",
   "execution_count": null,
   "id": "79d498d7",
   "metadata": {},
   "outputs": [],
   "source": [
    "# taking top n neighbors for different flavor profiles\n",
    "\n",
    "distances_savory, indices_savory = knn.kneighbors(savory_profile, n_neighbors=15)\n",
    "distances_sweet, indices_sweet = knn.kneighbors(sweet_profile, n_neighbors=5)\n",
    "distances_mixed, indices_mixed = knn.kneighbors(mixed_profile, n_neighbors=5)\n",
    "\n"
   ]
  },
  {
   "cell_type": "code",
   "execution_count": 35,
   "id": "bfc498e6",
   "metadata": {},
   "outputs": [
    {
     "data": {
      "text/plain": [
       "array([[10.        , 10.        , 10.        , 10.        , 14.14213562,\n",
       "        14.14213562, 14.14213562, 14.14213562, 14.14213562, 17.32050808,\n",
       "        19.36491673, 19.36491673, 19.36491673, 20.        , 20.        ]])"
      ]
     },
     "execution_count": 35,
     "metadata": {},
     "output_type": "execute_result"
    }
   ],
   "source": [
    "distances_savory"
   ]
  },
  {
   "cell_type": "code",
   "execution_count": 36,
   "id": "de3cb0b9",
   "metadata": {},
   "outputs": [
    {
     "data": {
      "text/plain": [
       "array([[105, 370,   7,  51, 270,   5, 361,  46,  84, 395,  49, 234,  32,\n",
       "          6, 125]], dtype=int64)"
      ]
     },
     "execution_count": 36,
     "metadata": {},
     "output_type": "execute_result"
    }
   ],
   "source": [
    "indices_savory"
   ]
  },
  {
   "cell_type": "code",
   "execution_count": 30,
   "id": "21c06106",
   "metadata": {},
   "outputs": [],
   "source": [
    "# Extract dish names\n",
    "savory_dishes = dish_df.iloc[indices_savory[0]]\n",
    "sweet_dishes = dish_df.iloc[indices_sweet[0]]\n",
    "mixed_dishes = dish_df.iloc[indices_mixed[0]]"
   ]
  },
  {
   "cell_type": "code",
   "execution_count": 37,
   "id": "df3aacf0",
   "metadata": {},
   "outputs": [
    {
     "data": {
      "text/html": [
       "<div>\n",
       "<style scoped>\n",
       "    .dataframe tbody tr th:only-of-type {\n",
       "        vertical-align: middle;\n",
       "    }\n",
       "\n",
       "    .dataframe tbody tr th {\n",
       "        vertical-align: top;\n",
       "    }\n",
       "\n",
       "    .dataframe thead th {\n",
       "        text-align: right;\n",
       "    }\n",
       "</style>\n",
       "<table border=\"1\" class=\"dataframe\">\n",
       "  <thead>\n",
       "    <tr style=\"text-align: right;\">\n",
       "      <th></th>\n",
       "      <th>dish_name</th>\n",
       "      <th>sweet</th>\n",
       "      <th>salty</th>\n",
       "      <th>sour</th>\n",
       "      <th>bitter</th>\n",
       "      <th>umami</th>\n",
       "    </tr>\n",
       "  </thead>\n",
       "  <tbody>\n",
       "    <tr>\n",
       "      <th>105</th>\n",
       "      <td>cauliflower bites</td>\n",
       "      <td>10</td>\n",
       "      <td>30</td>\n",
       "      <td>10</td>\n",
       "      <td>10</td>\n",
       "      <td>40</td>\n",
       "    </tr>\n",
       "    <tr>\n",
       "      <th>370</th>\n",
       "      <td>soup of the day</td>\n",
       "      <td>10</td>\n",
       "      <td>30</td>\n",
       "      <td>10</td>\n",
       "      <td>10</td>\n",
       "      <td>40</td>\n",
       "    </tr>\n",
       "    <tr>\n",
       "      <th>7</th>\n",
       "      <td>soup</td>\n",
       "      <td>10</td>\n",
       "      <td>30</td>\n",
       "      <td>10</td>\n",
       "      <td>10</td>\n",
       "      <td>40</td>\n",
       "    </tr>\n",
       "    <tr>\n",
       "      <th>51</th>\n",
       "      <td>chicken on mixed greens</td>\n",
       "      <td>10</td>\n",
       "      <td>30</td>\n",
       "      <td>10</td>\n",
       "      <td>10</td>\n",
       "      <td>40</td>\n",
       "    </tr>\n",
       "    <tr>\n",
       "      <th>270</th>\n",
       "      <td>shrimp salad wrap</td>\n",
       "      <td>20</td>\n",
       "      <td>30</td>\n",
       "      <td>10</td>\n",
       "      <td>10</td>\n",
       "      <td>40</td>\n",
       "    </tr>\n",
       "    <tr>\n",
       "      <th>5</th>\n",
       "      <td>chicken salad</td>\n",
       "      <td>20</td>\n",
       "      <td>30</td>\n",
       "      <td>10</td>\n",
       "      <td>10</td>\n",
       "      <td>40</td>\n",
       "    </tr>\n",
       "    <tr>\n",
       "      <th>361</th>\n",
       "      <td>chicken salad wrap</td>\n",
       "      <td>20</td>\n",
       "      <td>30</td>\n",
       "      <td>10</td>\n",
       "      <td>10</td>\n",
       "      <td>40</td>\n",
       "    </tr>\n",
       "    <tr>\n",
       "      <th>46</th>\n",
       "      <td>leo</td>\n",
       "      <td>20</td>\n",
       "      <td>30</td>\n",
       "      <td>10</td>\n",
       "      <td>10</td>\n",
       "      <td>50</td>\n",
       "    </tr>\n",
       "    <tr>\n",
       "      <th>84</th>\n",
       "      <td>chicken salad scoop</td>\n",
       "      <td>20</td>\n",
       "      <td>30</td>\n",
       "      <td>10</td>\n",
       "      <td>10</td>\n",
       "      <td>40</td>\n",
       "    </tr>\n",
       "    <tr>\n",
       "      <th>395</th>\n",
       "      <td>italian salad</td>\n",
       "      <td>10</td>\n",
       "      <td>30</td>\n",
       "      <td>20</td>\n",
       "      <td>20</td>\n",
       "      <td>40</td>\n",
       "    </tr>\n",
       "    <tr>\n",
       "      <th>49</th>\n",
       "      <td>health watch</td>\n",
       "      <td>10</td>\n",
       "      <td>20</td>\n",
       "      <td>5</td>\n",
       "      <td>10</td>\n",
       "      <td>30</td>\n",
       "    </tr>\n",
       "    <tr>\n",
       "      <th>234</th>\n",
       "      <td>tender</td>\n",
       "      <td>10</td>\n",
       "      <td>20</td>\n",
       "      <td>5</td>\n",
       "      <td>10</td>\n",
       "      <td>30</td>\n",
       "    </tr>\n",
       "    <tr>\n",
       "      <th>32</th>\n",
       "      <td>seasame</td>\n",
       "      <td>10</td>\n",
       "      <td>20</td>\n",
       "      <td>5</td>\n",
       "      <td>10</td>\n",
       "      <td>30</td>\n",
       "    </tr>\n",
       "    <tr>\n",
       "      <th>6</th>\n",
       "      <td>everything</td>\n",
       "      <td>20</td>\n",
       "      <td>30</td>\n",
       "      <td>0</td>\n",
       "      <td>10</td>\n",
       "      <td>40</td>\n",
       "    </tr>\n",
       "    <tr>\n",
       "      <th>125</th>\n",
       "      <td>lamb</td>\n",
       "      <td>5</td>\n",
       "      <td>30</td>\n",
       "      <td>5</td>\n",
       "      <td>10</td>\n",
       "      <td>60</td>\n",
       "    </tr>\n",
       "  </tbody>\n",
       "</table>\n",
       "</div>"
      ],
      "text/plain": [
       "                   dish_name  sweet  salty  sour  bitter  umami\n",
       "105        cauliflower bites     10     30    10      10     40\n",
       "370          soup of the day     10     30    10      10     40\n",
       "7                       soup     10     30    10      10     40\n",
       "51   chicken on mixed greens     10     30    10      10     40\n",
       "270        shrimp salad wrap     20     30    10      10     40\n",
       "5              chicken salad     20     30    10      10     40\n",
       "361       chicken salad wrap     20     30    10      10     40\n",
       "46                       leo     20     30    10      10     50\n",
       "84       chicken salad scoop     20     30    10      10     40\n",
       "395            italian salad     10     30    20      20     40\n",
       "49              health watch     10     20     5      10     30\n",
       "234                   tender     10     20     5      10     30\n",
       "32                   seasame     10     20     5      10     30\n",
       "6                 everything     20     30     0      10     40\n",
       "125                     lamb      5     30     5      10     60"
      ]
     },
     "execution_count": 37,
     "metadata": {},
     "output_type": "execute_result"
    }
   ],
   "source": [
    "savory_dishes"
   ]
  },
  {
   "cell_type": "code",
   "execution_count": 34,
   "id": "8cb2b501",
   "metadata": {},
   "outputs": [
    {
     "data": {
      "text/html": [
       "<div>\n",
       "<style scoped>\n",
       "    .dataframe tbody tr th:only-of-type {\n",
       "        vertical-align: middle;\n",
       "    }\n",
       "\n",
       "    .dataframe tbody tr th {\n",
       "        vertical-align: top;\n",
       "    }\n",
       "\n",
       "    .dataframe thead th {\n",
       "        text-align: right;\n",
       "    }\n",
       "</style>\n",
       "<table border=\"1\" class=\"dataframe\">\n",
       "  <thead>\n",
       "    <tr style=\"text-align: right;\">\n",
       "      <th></th>\n",
       "      <th>dish_name</th>\n",
       "      <th>sweet</th>\n",
       "      <th>salty</th>\n",
       "      <th>sour</th>\n",
       "      <th>bitter</th>\n",
       "      <th>umami</th>\n",
       "    </tr>\n",
       "  </thead>\n",
       "  <tbody>\n",
       "    <tr>\n",
       "      <th>479</th>\n",
       "      <td>peanut butter</td>\n",
       "      <td>70</td>\n",
       "      <td>10</td>\n",
       "      <td>10</td>\n",
       "      <td>5</td>\n",
       "      <td>5</td>\n",
       "    </tr>\n",
       "    <tr>\n",
       "      <th>29</th>\n",
       "      <td>muffin</td>\n",
       "      <td>70</td>\n",
       "      <td>10</td>\n",
       "      <td>10</td>\n",
       "      <td>5</td>\n",
       "      <td>5</td>\n",
       "    </tr>\n",
       "    <tr>\n",
       "      <th>36</th>\n",
       "      <td>french toast</td>\n",
       "      <td>70</td>\n",
       "      <td>10</td>\n",
       "      <td>10</td>\n",
       "      <td>5</td>\n",
       "      <td>5</td>\n",
       "    </tr>\n",
       "    <tr>\n",
       "      <th>456</th>\n",
       "      <td>fried oreo madness</td>\n",
       "      <td>60</td>\n",
       "      <td>10</td>\n",
       "      <td>10</td>\n",
       "      <td>5</td>\n",
       "      <td>15</td>\n",
       "    </tr>\n",
       "    <tr>\n",
       "      <th>73</th>\n",
       "      <td>buttermilk pancakes</td>\n",
       "      <td>70</td>\n",
       "      <td>10</td>\n",
       "      <td>0</td>\n",
       "      <td>10</td>\n",
       "      <td>10</td>\n",
       "    </tr>\n",
       "  </tbody>\n",
       "</table>\n",
       "</div>"
      ],
      "text/plain": [
       "               dish_name  sweet  salty  sour  bitter  umami\n",
       "479        peanut butter     70     10    10       5      5\n",
       "29                muffin     70     10    10       5      5\n",
       "36          french toast     70     10    10       5      5\n",
       "456   fried oreo madness     60     10    10       5     15\n",
       "73   buttermilk pancakes     70     10     0      10     10"
      ]
     },
     "execution_count": 34,
     "metadata": {},
     "output_type": "execute_result"
    }
   ],
   "source": [
    "sweet_dishes"
   ]
  },
  {
   "cell_type": "code",
   "execution_count": 38,
   "id": "7eb4c18d",
   "metadata": {},
   "outputs": [
    {
     "data": {
      "text/html": [
       "<div>\n",
       "<style scoped>\n",
       "    .dataframe tbody tr th:only-of-type {\n",
       "        vertical-align: middle;\n",
       "    }\n",
       "\n",
       "    .dataframe tbody tr th {\n",
       "        vertical-align: top;\n",
       "    }\n",
       "\n",
       "    .dataframe thead th {\n",
       "        text-align: right;\n",
       "    }\n",
       "</style>\n",
       "<table border=\"1\" class=\"dataframe\">\n",
       "  <thead>\n",
       "    <tr style=\"text-align: right;\">\n",
       "      <th></th>\n",
       "      <th>dish_name</th>\n",
       "      <th>sweet</th>\n",
       "      <th>salty</th>\n",
       "      <th>sour</th>\n",
       "      <th>bitter</th>\n",
       "      <th>umami</th>\n",
       "    </tr>\n",
       "  </thead>\n",
       "  <tbody>\n",
       "    <tr>\n",
       "      <th>201</th>\n",
       "      <td>vegetable cold sub</td>\n",
       "      <td>10</td>\n",
       "      <td>30</td>\n",
       "      <td>30</td>\n",
       "      <td>10</td>\n",
       "      <td>20</td>\n",
       "    </tr>\n",
       "    <tr>\n",
       "      <th>53</th>\n",
       "      <td>toss salad</td>\n",
       "      <td>15</td>\n",
       "      <td>20</td>\n",
       "      <td>30</td>\n",
       "      <td>10</td>\n",
       "      <td>5</td>\n",
       "    </tr>\n",
       "    <tr>\n",
       "      <th>184</th>\n",
       "      <td>breakfast flatbread</td>\n",
       "      <td>10</td>\n",
       "      <td>40</td>\n",
       "      <td>20</td>\n",
       "      <td>10</td>\n",
       "      <td>20</td>\n",
       "    </tr>\n",
       "    <tr>\n",
       "      <th>12</th>\n",
       "      <td>egg salad scoop</td>\n",
       "      <td>10</td>\n",
       "      <td>40</td>\n",
       "      <td>20</td>\n",
       "      <td>10</td>\n",
       "      <td>20</td>\n",
       "    </tr>\n",
       "    <tr>\n",
       "      <th>342</th>\n",
       "      <td>egg salad sub</td>\n",
       "      <td>10</td>\n",
       "      <td>40</td>\n",
       "      <td>20</td>\n",
       "      <td>10</td>\n",
       "      <td>20</td>\n",
       "    </tr>\n",
       "  </tbody>\n",
       "</table>\n",
       "</div>"
      ],
      "text/plain": [
       "               dish_name  sweet  salty  sour  bitter  umami\n",
       "201   vegetable cold sub     10     30    30      10     20\n",
       "53            toss salad     15     20    30      10      5\n",
       "184  breakfast flatbread     10     40    20      10     20\n",
       "12       egg salad scoop     10     40    20      10     20\n",
       "342        egg salad sub     10     40    20      10     20"
      ]
     },
     "execution_count": 38,
     "metadata": {},
     "output_type": "execute_result"
    }
   ],
   "source": [
    "mixed_dishes"
   ]
  }
 ],
 "metadata": {
  "kernelspec": {
   "display_name": "bhogi",
   "language": "python",
   "name": "python3"
  },
  "language_info": {
   "codemirror_mode": {
    "name": "ipython",
    "version": 3
   },
   "file_extension": ".py",
   "mimetype": "text/x-python",
   "name": "python",
   "nbconvert_exporter": "python",
   "pygments_lexer": "ipython3",
   "version": "3.12.11"
  }
 },
 "nbformat": 4,
 "nbformat_minor": 5
}
